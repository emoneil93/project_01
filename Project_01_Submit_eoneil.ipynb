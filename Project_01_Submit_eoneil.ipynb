{
 "cells": [
  {
   "cell_type": "markdown",
   "metadata": {},
   "source": [
    "Challenge 1: Largest Palindrome\n",
    "\n",
    "A palindromic number reads the same both ways. For example, 1234321 is a palindrome. The largest palindrome made from the product of two two-digit numbers is 9009 = 91 × 99. Find the largest palindrome made from the product of two three-digit numbers. Afterward, write a brief explanation walking through your code's logic in markdown."
   ]
  },
  {
   "cell_type": "code",
   "execution_count": 15,
   "metadata": {},
   "outputs": [
    {
     "name": "stdout",
     "output_type": "stream",
     "text": [
      "906609\n"
     ]
    }
   ],
   "source": [
    "# Create empty list to contain eligible palindromes\n",
    "palindromes = []\n",
    "\n",
    "# Define upper and lower bounds of eligible 3-digit intengers\n",
    "smallest_int = 100\n",
    "largest_int = 999\n",
    "\n",
    "# Create function that evaluates palindromes (turn integer into string, reverse order of string, check if equal)\n",
    "def check_palindrome(x):\n",
    "    return str(x) == str(x)[::-1]\n",
    "\n",
    "# Use variables to set range from smallest to largest possible products\n",
    "# Use for loop to add palindromes into list\n",
    "for a in range(smallest_int, largest_int+1):\n",
    "    for b in range(smallest_int, largest_int+1):\n",
    "        if check_palindrome(a*b) == True:\n",
    "            palindromes.append(a*b)\n",
    "            \n",
    "# Choose max number from list\n",
    "print(max(palindromes))"
   ]
  },
  {
   "cell_type": "markdown",
   "metadata": {},
   "source": [
    "Challenge 2: Summation of Primes\n",
    "\n",
    "The sum of the primes below 10 is 2 + 3 + 5 + 7 = 17. Find the sum of all the primes below 2,000. Afterward, write a brief explanation walking through your code's logic in markdown."
   ]
  },
  {
   "cell_type": "code",
   "execution_count": 16,
   "metadata": {},
   "outputs": [
    {
     "data": {
      "text/plain": [
       "277050"
      ]
     },
     "execution_count": 16,
     "metadata": {},
     "output_type": "execute_result"
    }
   ],
   "source": [
    "# Create empty list of prime numbers\n",
    "prime_list = []\n",
    "\n",
    "# Define eligible range\n",
    "lower_bound = 2\n",
    "upper_bound = 2000\n",
    "\n",
    "# Create function that evaluates whether a number is prime or not\n",
    "# Logic = if prime X cannot be evenly divided by ANY number lower than itself (and > 1) then is prime\n",
    "def is_prime(x):\n",
    "    for a in range(2, x):\n",
    "        if (x % a) == 0:\n",
    "            return False\n",
    "            break\n",
    "    else:\n",
    "        return True\n",
    "    \n",
    "# Go through range with for loop and include prime numbers in list\n",
    "for a in range(lower_bound, upper_bound):\n",
    "    if is_prime(a) == True:\n",
    "        prime_list.append(a)\n",
    "    else: \n",
    "        pass\n",
    "\n",
    "# Sum list of prime numbers\n",
    "sum(prime_list)"
   ]
  },
  {
   "cell_type": "markdown",
   "metadata": {},
   "source": [
    "Challenge 3: Multiples of 3 and 5\n",
    "\n",
    "If we list all of the natural numbers below 10 that are multiples of 3 or 5, we get 3, 5, 6, and 9. The sum of these multiples is 23. Find the sum of all the multiples of 3 and 5 below 1,000. Afterward, write a brief explanation walking through your code's logic in markdown."
   ]
  },
  {
   "cell_type": "code",
   "execution_count": 10,
   "metadata": {},
   "outputs": [
    {
     "name": "stdout",
     "output_type": "stream",
     "text": [
      "233168\n"
     ]
    }
   ],
   "source": [
    "# Create empty list of numbers divisible by 3 OR 5\n",
    "three_five_or = []\n",
    "\n",
    "# Define upper limit\n",
    "upper_bound = 1000\n",
    "\n",
    "# Go through range with for loop and include numbers divisible by EITHER 5 OR 3 in list\n",
    "# NOTE: If we want to do this for 3 and 5 (i.e. 15) just change \"or\" to \"and\" statement\n",
    "for a in range (1, upper_bound):\n",
    "    if (a % 3 == 0) or (a % 5 == 0):\n",
    "        three_five_or.append(a)\n",
    "else:\n",
    "    pass\n",
    "\n",
    "# Sum lists\n",
    "print(sum(three_five_or))"
   ]
  },
  {
   "cell_type": "markdown",
   "metadata": {},
   "source": [
    "Challenge 4: String Compressor\n",
    "\n",
    "Implement a method to perform basic string compression using the counts of repeated characters. (This is called run-length encoding.) For example, the string \"aabcccccaaa\" would become a2b1c5a3. If the “compressed” string would not become smaller than the original string, your method should return the original string. You can assume the string has only uppercase and lowercase letters (a–z). Specify whether your solution is case sensitive or case insensitive and what you would need to change to make it the other. Afterward, write a brief explanation walking through your code's logic in markdown."
   ]
  },
  {
   "cell_type": "code",
   "execution_count": 13,
   "metadata": {},
   "outputs": [
    {
     "name": "stdout",
     "output_type": "stream",
     "text": [
      "a2b1c5a3\n",
      "a1a1b1c5a3\n",
      "a2b1c5a3\n",
      "a2b1c5a3\n"
     ]
    }
   ],
   "source": [
    "# Create variable as test string\n",
    "string_lower = 'aabcccccaaa'\n",
    "\n",
    "# Create sentence case version to test case sensitivity\n",
    "string_upper = string_lower.capitalize()\n",
    "\n",
    "# Build case-sensitive function to return compressed version if this saves memory, or full string if not\n",
    "# Establish variable to contain information about each character count, final output compressed string\n",
    "# Create for loop where, where character count is updated for each character that is NOT the last in the string and is equal to the next\n",
    "# Explained (1/4): for first position 0 (a), since position 1 is also a, update character count for a to 2\n",
    "# Explained (2/4): Since position 2 is b, we update our compressed string to contain 'a' and '2' and re-set character count back to a default of 1.\n",
    "# Explained (3/4): Since position 3 <> b, we update our compressed string to contain 'b' and '1'. String now reads 'a2b1'\n",
    "# Explained (4/4): When we're done with our for loop, have a basic check to return compressed string if it's shorter than original. Otherwise return original. \n",
    "\n",
    "def compress_sensitive(string):\n",
    "    num_char = 1\n",
    "    compressed_string = \"\"\n",
    "    for index, char in enumerate(string):\n",
    "        if (index + 1 < len(string)) and char == string[index+1]:\n",
    "            num_char = num_char + 1\n",
    "        else:\n",
    "            compressed_string = compressed_string + char + str(num_char)\n",
    "            num_char = 1\n",
    "    if len(compressed_string) < len(string):\n",
    "        print(compressed_string.lower())\n",
    "    else:\n",
    "        print(string.lower())\n",
    "\n",
    "# Update function to only run on lower-case version of string input to remove case sensitivity\n",
    "def compress(string):\n",
    "    num_char = 1\n",
    "    compressed_string = \"\"\n",
    "    for index, char in enumerate(string.lower()):\n",
    "        if index + 1 < len(string) and char == string[index+1]:\n",
    "            num_char = num_char + 1\n",
    "        else:\n",
    "            compressed_string = compressed_string + char + str(num_char)\n",
    "            num_char = 1\n",
    "    if len(compressed_string) < len(string):\n",
    "        print(compressed_string.lower())\n",
    "    else:\n",
    "        print(string.lower())\n",
    "\n",
    "# Run functions\n",
    "compress_sensitive(string_lower)\n",
    "compress_sensitive(string_upper)\n",
    "compress(string_lower)\n",
    "compress(string_upper)"
   ]
  },
  {
   "cell_type": "markdown",
   "metadata": {},
   "source": [
    "BONUS Challenge: FizzBuzz\n",
    "\n",
    "Write a program that prints all of the numbers from 1 to 100. For multiples of 3, instead of the number, print \"Fizz;\" for multiples of 5, print \"Buzz.\" For numbers that are multiples of both 3 and 5, print \"FizzBuzz.\" Afterward, write a brief explanation walking through your code's logic in markdown."
   ]
  },
  {
   "cell_type": "code",
   "execution_count": 14,
   "metadata": {},
   "outputs": [
    {
     "name": "stdout",
     "output_type": "stream",
     "text": [
      "1\n",
      "2\n",
      "Fizz\n",
      "4\n",
      "Buzz\n",
      "Fizz\n",
      "7\n",
      "8\n",
      "Fizz\n",
      "Buzz\n",
      "11\n",
      "Fizz\n",
      "13\n",
      "14\n",
      "FizzBuzz\n",
      "16\n",
      "17\n",
      "Fizz\n",
      "19\n",
      "Buzz\n",
      "Fizz\n",
      "22\n",
      "23\n",
      "Fizz\n",
      "Buzz\n",
      "26\n",
      "Fizz\n",
      "28\n",
      "29\n",
      "FizzBuzz\n",
      "31\n",
      "32\n",
      "Fizz\n",
      "34\n",
      "Buzz\n",
      "Fizz\n",
      "37\n",
      "38\n",
      "Fizz\n",
      "Buzz\n",
      "41\n",
      "Fizz\n",
      "43\n",
      "44\n",
      "FizzBuzz\n",
      "46\n",
      "47\n",
      "Fizz\n",
      "49\n",
      "Buzz\n",
      "Fizz\n",
      "52\n",
      "53\n",
      "Fizz\n",
      "Buzz\n",
      "56\n",
      "Fizz\n",
      "58\n",
      "59\n",
      "FizzBuzz\n",
      "61\n",
      "62\n",
      "Fizz\n",
      "64\n",
      "Buzz\n",
      "Fizz\n",
      "67\n",
      "68\n",
      "Fizz\n",
      "Buzz\n",
      "71\n",
      "Fizz\n",
      "73\n",
      "74\n",
      "FizzBuzz\n",
      "76\n",
      "77\n",
      "Fizz\n",
      "79\n",
      "Buzz\n",
      "Fizz\n",
      "82\n",
      "83\n",
      "Fizz\n",
      "Buzz\n",
      "86\n",
      "Fizz\n",
      "88\n",
      "89\n",
      "FizzBuzz\n",
      "91\n",
      "92\n",
      "Fizz\n",
      "94\n",
      "Buzz\n",
      "Fizz\n",
      "97\n",
      "98\n",
      "Fizz\n",
      "Buzz\n"
     ]
    }
   ],
   "source": [
    "# Set Upper Limit\n",
    "upper_limit = 100\n",
    "\n",
    "# Write for loop starting with most restrictive ('and') logic and then trickling down using if/then logic\n",
    "for i in range(1,upper_limit+1):\n",
    "        if (i %  3 == 0) and (i % 5 == 0):\n",
    "            print('FizzBuzz')\n",
    "        elif (i %  3 == 0):\n",
    "            print('Fizz')\n",
    "        elif (i %  5 == 0):\n",
    "            print('Buzz')\n",
    "        else:\n",
    "            print(i)"
   ]
  },
  {
   "cell_type": "code",
   "execution_count": null,
   "metadata": {},
   "outputs": [],
   "source": []
  }
 ],
 "metadata": {
  "kernelspec": {
   "display_name": "Python 3",
   "language": "python",
   "name": "python3"
  },
  "language_info": {
   "codemirror_mode": {
    "name": "ipython",
    "version": 3
   },
   "file_extension": ".py",
   "mimetype": "text/x-python",
   "name": "python",
   "nbconvert_exporter": "python",
   "pygments_lexer": "ipython3",
   "version": "3.7.1"
  }
 },
 "nbformat": 4,
 "nbformat_minor": 2
}
